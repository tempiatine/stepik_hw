{
  "nbformat": 4,
  "nbformat_minor": 0,
  "metadata": {
    "colab": {
      "provenance": [],
      "authorship_tag": "ABX9TyPIiNLOcz/lGJKhjedKuadZ",
      "include_colab_link": true
    },
    "kernelspec": {
      "name": "python3",
      "display_name": "Python 3"
    },
    "language_info": {
      "name": "python"
    }
  },
  "cells": [
    {
      "cell_type": "markdown",
      "metadata": {
        "id": "view-in-github",
        "colab_type": "text"
      },
      "source": [
        "<a href=\"https://colab.research.google.com/github/tempiatine/stepik_hw/blob/main/pyspark_hw.ipynb\" target=\"_parent\"><img src=\"https://colab.research.google.com/assets/colab-badge.svg\" alt=\"Open In Colab\"/></a>"
      ]
    },
    {
      "cell_type": "code",
      "execution_count": 27,
      "metadata": {
        "id": "iJlNyygQ9rU6"
      },
      "outputs": [],
      "source": [
        "# !pip install pyspark"
      ]
    },
    {
      "cell_type": "code",
      "source": [
        "from pyspark.sql import SparkSession\n",
        "\n",
        "# Создание SparkSession\n",
        "spark = SparkSession.builder.appName(\"Read CSV logs\").getOrCreate()\n",
        "from pyspark.sql.functions import col, count, desc, date_trunc, sum, to_date\n",
        "\n",
        "# Чтение CSV-файла\n",
        "df = spark.read.csv(\"/content/sample_data/web_server_logs.csv\", header=True, inferSchema=True)\n",
        "\n",
        "# Нахождение топ-10 IP с наибольшим количеством запросов\n",
        "ip_requests = df.groupBy('ip').count().withColumnRenamed(\"count\", \"request_count\").orderBy(desc('request_count')).limit(10)\n",
        "\n",
        "# Нахождение количества запросов по каждому HTTP-методу\n",
        "http_requests = df.groupBy('method').count().withColumnRenamed(\"count\", \"method_count\")\n",
        "\n",
        "# Нахождение количества запросов с кодом ответа 404\n",
        "notFound_count = df.filter(col('response_code') == '404').groupBy('response_code').count().collect()[0][1]\n",
        "\n",
        "# Нахождение суммарного размера ответов на каждую дату\n",
        "date_size = df.withColumn(\"date\", date_trunc(\"day\", col(\"timestamp\"))).groupBy('date').sum('response_size').withColumnRenamed(\"sum(response_size)\", \"total_response_size\").withColumn(\"date\", to_date(col(\"date\"))).orderBy('date')\n",
        "\n",
        "df.show()\n",
        "print('Top 10 active IP addresses:')\n",
        "ip_requests.show()\n",
        "\n",
        "print('Request count by HTTP method:')\n",
        "http_requests.show()\n",
        "\n",
        "print(f'Number of 404 response codes: {notFound_count}')\n",
        "\n",
        "print('Total response size by date:')\n",
        "date_size.show()"
      ],
      "metadata": {
        "colab": {
          "base_uri": "https://localhost:8080/"
        },
        "id": "9D6rwbbq_BaA",
        "outputId": "ad3286cd-f463-43fe-875a-d003d6cb04ab"
      },
      "execution_count": 26,
      "outputs": [
        {
          "output_type": "stream",
          "name": "stdout",
          "text": [
            "+---------------+--------------------+------+--------------------+-------------+-------------+\n",
            "|             ip|           timestamp|method|                 url|response_code|response_size|\n",
            "+---------------+--------------------+------+--------------------+-------------+-------------+\n",
            "| 143.48.209.129|2024-01-04 22:20:...|DELETE|        posts/search|          500|         6316|\n",
            "|    35.18.70.54|2024-01-29 15:09:...|   GET|        explore/blog|          301|         1472|\n",
            "|153.253.235.106|2024-03-07 11:42:...|   GET|categories/search...|          301|          348|\n",
            "|   31.92.178.11|2024-01-31 23:03:...|   PUT|           posts/tag|          301|          533|\n",
            "|  91.198.130.78|2024-05-03 02:33:...|   PUT|                 app|          500|          834|\n",
            "|  42.113.122.35|2024-08-04 17:12:...|   GET|categories/app/ca...|          200|         5907|\n",
            "|    198.196.9.4|2024-06-28 19:36:...|DELETE|      tag/categories|          500|         9113|\n",
            "|  14.207.175.45|2024-07-21 18:31:...|DELETE|          categories|          301|         9772|\n",
            "| 138.248.16.140|2024-07-12 20:45:...|   PUT|         app/app/tag|          200|         2387|\n",
            "|  6.223.205.109|2024-01-11 01:45:...|   GET|        tags/tag/tag|          301|         3380|\n",
            "|  66.199.134.90|2024-01-30 09:12:...|DELETE|category/categori...|          301|         1099|\n",
            "|  79.197.36.131|2024-04-21 18:08:...|   GET|           blog/blog|          301|         2246|\n",
            "| 124.117.133.77|2024-02-01 02:10:...|  POST|          posts/list|          200|         5706|\n",
            "|   1.89.199.129|2024-07-05 08:18:...|  POST|            app/list|          200|         9880|\n",
            "|  89.253.251.20|2024-06-28 17:34:...|   PUT|            category|          404|         6507|\n",
            "|  95.42.247.113|2024-08-14 16:21:...|  POST|     list/search/app|          301|          699|\n",
            "| 181.102.44.146|2024-03-30 15:34:...|DELETE|                blog|          301|         8098|\n",
            "|  13.135.148.44|2024-03-03 23:11:...|  POST|tag/category/wp-c...|          404|         8223|\n",
            "|  68.97.108.192|2024-05-02 12:23:...|   GET|  explore/wp-content|          404|         1255|\n",
            "| 199.217.100.31|2024-08-20 10:03:...|DELETE|            blog/tag|          404|         8029|\n",
            "+---------------+--------------------+------+--------------------+-------------+-------------+\n",
            "only showing top 20 rows\n",
            "\n",
            "Top 10 active IP addresses:\n",
            "+--------------+-------------+\n",
            "|            ip|request_count|\n",
            "+--------------+-------------+\n",
            "|54.117.161.178|            2|\n",
            "|15.180.242.124|            2|\n",
            "| 145.197.4.160|            1|\n",
            "| 162.63.126.49|            1|\n",
            "|53.184.182.250|            1|\n",
            "|20.104.190.231|            1|\n",
            "| 188.122.67.54|            1|\n",
            "|36.153.203.227|            1|\n",
            "|63.110.152.229|            1|\n",
            "|153.199.25.106|            1|\n",
            "+--------------+-------------+\n",
            "\n",
            "Request count by HTTP method:\n",
            "+------+------------+\n",
            "|method|method_count|\n",
            "+------+------------+\n",
            "|  POST|       25145|\n",
            "|DELETE|       24770|\n",
            "|   PUT|       25108|\n",
            "|   GET|       24977|\n",
            "+------+------------+\n",
            "\n",
            "Number of 404 response codes: 24945\n",
            "Total response size by date:\n",
            "+----------+-------------------+\n",
            "|      date|total_response_size|\n",
            "+----------+-------------------+\n",
            "|2024-01-01|            1928156|\n",
            "|2024-01-02|            2368396|\n",
            "|2024-01-03|            2028763|\n",
            "|2024-01-04|            2162016|\n",
            "|2024-01-05|            2170213|\n",
            "|2024-01-06|            2245336|\n",
            "|2024-01-07|            2118089|\n",
            "|2024-01-08|            2121780|\n",
            "|2024-01-09|            2339765|\n",
            "|2024-01-10|            2171103|\n",
            "|2024-01-11|            2161639|\n",
            "|2024-01-12|            2179606|\n",
            "|2024-01-13|            2355387|\n",
            "|2024-01-14|            2128679|\n",
            "|2024-01-15|            1973807|\n",
            "|2024-01-16|            2127577|\n",
            "|2024-01-17|            2170629|\n",
            "|2024-01-18|            2032591|\n",
            "|2024-01-19|            2229839|\n",
            "|2024-01-20|            2316132|\n",
            "+----------+-------------------+\n",
            "only showing top 20 rows\n",
            "\n"
          ]
        }
      ]
    },
    {
      "cell_type": "code",
      "source": [],
      "metadata": {
        "id": "wtBEVkSVNhJX"
      },
      "execution_count": null,
      "outputs": []
    }
  ]
}
